{
  "cells": [
    {
      "cell_type": "markdown",
      "metadata": {},
      "source": [
        "### Name: Rishikesh Vadoadaria\n",
        "\n",
        "### Roll No. C114"
      ]
    },
    {
      "cell_type": "code",
      "execution_count": 1,
      "metadata": {
        "id": "6IfiLJUdHp45"
      },
      "outputs": [],
      "source": [
        "import numpy as np\n",
        "import matplotlib.pyplot as plt"
      ]
    },
    {
      "cell_type": "code",
      "execution_count": 2,
      "metadata": {
        "id": "928XT-_sHyX2"
      },
      "outputs": [],
      "source": [
        "# Grid World Setup\n",
        "GRID_SIZE = 5\n",
        "GAMMA = 0.9  # Discount factor\n",
        "ALPHA = 0.1  # Learning rate\n",
        "EPISODES = 500  # Number of episodes"
      ]
    },
    {
      "cell_type": "code",
      "execution_count": 3,
      "metadata": {
        "id": "AQjSet4gH1VP"
      },
      "outputs": [],
      "source": [
        "rewards = np.full((GRID_SIZE, GRID_SIZE), -1)  # Step penalty\n",
        "rewards[4, 4] = 10  # Goal state\n",
        "obstacles = [(1, 1), (2, 2), (3, 3), (1, 3)]\n",
        "for obs in obstacles:\n",
        "    rewards[obs] = -10"
      ]
    },
    {
      "cell_type": "code",
      "execution_count": 4,
      "metadata": {
        "id": "doPfCBL2H3jt"
      },
      "outputs": [],
      "source": [
        "# Initialize value function\n",
        "V_td0 = np.zeros((GRID_SIZE, GRID_SIZE))\n",
        "V_td1 = np.zeros((GRID_SIZE, GRID_SIZE))"
      ]
    },
    {
      "cell_type": "code",
      "execution_count": 5,
      "metadata": {
        "id": "CRg5NkbPH600"
      },
      "outputs": [],
      "source": [
        "def get_next_state(state, action):\n",
        "    \"\"\"Returns the next state given a state and an action.\"\"\"\n",
        "    i, j = state\n",
        "    if action == 0 and i > 0:  # Up\n",
        "        i -= 1\n",
        "    elif action == 1 and i < GRID_SIZE - 1:  # Down\n",
        "        i += 1\n",
        "    elif action == 2 and j > 0:  # Left\n",
        "        j -= 1\n",
        "    elif action == 3 and j < GRID_SIZE - 1:  # Right\n",
        "        j += 1\n",
        "    return (i, j)"
      ]
    },
    {
      "cell_type": "code",
      "execution_count": 6,
      "metadata": {
        "id": "6vx_lorcH9rR"
      },
      "outputs": [],
      "source": [
        "def td_0():\n",
        "    \"\"\"TD(0) Learning Algorithm.\"\"\"\n",
        "    for episode in range(EPISODES):\n",
        "        state = (0, 0)  # Start state\n",
        "        while state != (4, 4):  # Until goal state is reached\n",
        "            action = np.random.choice(4)  # Random action\n",
        "            next_state = get_next_state(state, action)\n",
        "            reward = rewards[next_state]\n",
        "            V_td0[state] += ALPHA * (reward + GAMMA * V_td0[next_state] - V_td0[state])\n",
        "            state = next_state"
      ]
    },
    {
      "cell_type": "code",
      "execution_count": 7,
      "metadata": {
        "id": "TVvOHO7yIApl"
      },
      "outputs": [],
      "source": [
        "def td_1():\n",
        "    \"\"\"TD(1) Learning Algorithm (Monte Carlo with discounting).\"\"\"\n",
        "    for episode in range(EPISODES):\n",
        "        state = (0, 0)\n",
        "        trajectory = []\n",
        "        rewards_collected = []\n",
        "\n",
        "        while state != (4, 4):\n",
        "            action = np.random.choice(4)\n",
        "            next_state = get_next_state(state, action)\n",
        "            reward = rewards[next_state]\n",
        "            trajectory.append(state)\n",
        "            rewards_collected.append(reward)\n",
        "            state = next_state\n",
        "\n",
        "        G = 0\n",
        "        for t in reversed(range(len(trajectory))):\n",
        "            G = rewards_collected[t] + GAMMA * G\n",
        "            V_td1[trajectory[t]] += ALPHA * (G - V_td1[trajectory[t]])"
      ]
    },
    {
      "cell_type": "code",
      "execution_count": 8,
      "metadata": {
        "id": "XiGuoH_DIDXn"
      },
      "outputs": [],
      "source": [
        "td_0()\n",
        "td_1()"
      ]
    },
    {
      "cell_type": "code",
      "execution_count": 9,
      "metadata": {
        "colab": {
          "base_uri": "https://localhost:8080/",
          "height": 433
        },
        "id": "2X_iEEpTIGDs",
        "outputId": "41ad56be-001d-4f2c-e484-fa709f8e2fcb"
      },
      "outputs": [
        {
          "data": {
            "image/png": "[encoded data removed]",
            "text/plain": [
              "<Figure size 1200x500 with 4 Axes>"
            ]
          },
          "metadata": {},
          "output_type": "display_data"
        }
      ],
      "source": [
        "# Plotting results\n",
        "plt.figure(figsize=(12, 5))\n",
        "plt.subplot(1, 2, 1)\n",
        "plt.imshow(V_td0, cmap='coolwarm', interpolation='nearest')\n",
        "plt.colorbar()\n",
        "plt.title(\"TD(0) Value Function\")\n",
        "plt.subplot(1, 2, 2)\n",
        "plt.imshow(V_td1, cmap='coolwarm', interpolation='nearest')\n",
        "plt.colorbar()\n",
        "plt.title(\"TD(1) Value Function\")\n",
        "plt.show()"
      ]
    },
    {
      "cell_type": "markdown",
      "metadata": {
        "id": "1-9s7xLjIQA9"
      },
      "source": [
        "TD(0) is faster in updating state values but less accurate in long-term prediction.\n",
        "TD(1) provides better long-term value estimation but takes longer to converge.\n",
        "Temporal Difference learning bridges the gap between Monte Carlo and Dynamic Programming approaches by learning from experience without requiring a full model of the environment.\n",
        "Both methods are essential for different reinforcement learning scenarios, depending on whether immediate updates or full trajectory evaluation is preferred."
      ]
    },
    {
      "cell_type": "markdown",
      "metadata": {
        "id": "wUjN2hxnIgIh"
      },
      "source": [
        "# Difference between Monte Carlo and TD\n",
        "\n",
        "Temporal Difference (TD) Prediction and Monte Carlo (MC) Prediction differ primarily in how they update state values.\n",
        "\n",
        "TD updates values incrementally at each step by using the reward and estimated value of the next state (bootstrapping), making it faster and more data-efficient.\n",
        "\n",
        "In contrast, MC waits until the end of an episode to compute the total return before updating values, leading to unbiased but high-variance estimates.\n",
        "\n",
        "TD is generally more stable and suited for continuous learning, while MC works well in episodic environments where full trajectories can be observed.\n",
        "\n",
        "Additionally, TD's lower computational complexity makes it more practical for real-time learning, whereas MC requires complete episodes, which can slow convergence. Overall, TD is preferable when quick updates are needed, whereas MC is beneficial for tasks with clearly defined episodes and rewards."
      ]
    }
  ],
  "metadata": {
    "colab": {
      "provenance": []
    },
    "kernelspec": {
      "display_name": "Python 3",
      "name": "python3"
    },
    "language_info": {
      "name": "python"
    }
  },
  "nbformat": 4,
  "nbformat_minor": 0
}
