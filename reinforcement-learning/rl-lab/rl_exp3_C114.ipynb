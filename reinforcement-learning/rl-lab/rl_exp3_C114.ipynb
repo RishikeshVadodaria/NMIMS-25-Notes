{
  "cells": [
    {
      "cell_type": "markdown",
      "metadata": {
        "id": "WcR-48Cy74gH"
      },
      "source": [
        "## Name - Rishikesh Vadodaria\n",
        "\n",
        "## Roll Number - C114"
      ]
    },
    {
      "cell_type": "markdown",
      "metadata": {
        "id": "k-bMtHKv7-0f"
      },
      "source": [
        "Aim -\n",
        "Understand and apply the concepts of Markov Decision Processes (MDPs) by modelling a real-world decision-making scenario\n",
        "\n",
        "a.\tModel decision making process\n",
        "\n",
        "b.\tImplement Bellman Optimality Equation for value iteration algorithm\n",
        "\n",
        "c.\tIdentify the optimal policy by analysing the results\n"
      ]
    },
    {
      "cell_type": "code",
      "execution_count": 1,
      "metadata": {
        "colab": {
          "base_uri": "https://localhost:8080/"
        },
        "id": "oYdlJlSE8F5a",
        "outputId": "88477810-0eb1-40db-e6cf-5baba4940b8a"
      },
      "outputs": [
        {
          "name": "stdout",
          "output_type": "stream",
          "text": [
            "Collecting pymdptoolbox\n",
            "  Downloading pymdptoolbox-4.0-b3.zip (29 kB)\n",
            "  Preparing metadata (setup.py): started\n",
            "  Preparing metadata (setup.py): finished with status 'done'\n",
            "Requirement already satisfied: numpy in c:\\users\\rishikesh\\appdata\\local\\programs\\python\\python311\\lib\\site-packages (from pymdptoolbox) (1.26.4)\n",
            "Requirement already satisfied: scipy in c:\\users\\rishikesh\\appdata\\local\\programs\\python\\python311\\lib\\site-packages (from pymdptoolbox) (1.11.2)\n",
            "Building wheels for collected packages: pymdptoolbox\n",
            "  Building wheel for pymdptoolbox (setup.py): started\n",
            "  Building wheel for pymdptoolbox (setup.py): finished with status 'done'\n",
            "  Created wheel for pymdptoolbox: filename=pymdptoolbox-4.0b3-py3-none-any.whl size=25668 sha256=7ff3d9da51df06232913dd0c9737ef22d07c104a3b99e7f3bfc61db445922ccb\n",
            "  Stored in directory: c:\\users\\rishikesh\\appdata\\local\\pip\\cache\\wheels\\cc\\81\\b3\\db002373e7a93d9151e9dc9ea1084102b0028f2339724b32a3\n",
            "Successfully built pymdptoolbox\n",
            "Installing collected packages: pymdptoolbox\n",
            "Successfully installed pymdptoolbox-4.0b3\n",
            "Note: you may need to restart the kernel to use updated packages.\n"
          ]
        },
        {
          "name": "stderr",
          "output_type": "stream",
          "text": [
            "WARNING: Ignoring invalid distribution ~rotobuf (c:\\Users\\Rishikesh\\AppData\\Local\\Programs\\Python\\Python311\\Lib\\site-packages)\n",
            "WARNING: Ignoring invalid distribution ~rotobuf (c:\\Users\\Rishikesh\\AppData\\Local\\Programs\\Python\\Python311\\Lib\\site-packages)\n",
            "WARNING: Ignoring invalid distribution ~rotobuf (c:\\Users\\Rishikesh\\AppData\\Local\\Programs\\Python\\Python311\\Lib\\site-packages)\n"
          ]
        }
      ],
      "source": [
        "pip install pymdptoolbox"
      ]
    },
    {
      "cell_type": "code",
      "execution_count": 2,
      "metadata": {
        "id": "k0Zd7R2q8I41"
      },
      "outputs": [],
      "source": [
        "import numpy as np\n",
        "import matplotlib.pyplot as plt"
      ]
    },
    {
      "cell_type": "code",
      "execution_count": 3,
      "metadata": {
        "id": "4TzccI258PM5"
      },
      "outputs": [],
      "source": [
        "# Define the MDP parameters\n",
        "states = ['Rainy', 'Cloudy', 'Sunny']\n",
        "actions = ['Umbrella', 'No Umbrella']\n",
        "rewards = {'Rainy': {'Umbrella': -1, 'No Umbrella': -5},\n",
        "           'Cloudy': {'Umbrella': -1, 'No Umbrella': -1},\n",
        "           'Sunny': {'Umbrella': -5, 'No Umbrella': -1}}\n",
        "transitions = {'Rainy': {'Umbrella': {'Rainy': 0.7, 'Cloudy': 0.3, 'Sunny': 0},\n",
        "                         'No Umbrella': {'Rainy': 0.3, 'Cloudy': 0.4, 'Sunny': 0.3}},\n",
        "               'Cloudy': {'Umbrella': {'Rainy': 0.4, 'Cloudy': 0.6, 'Sunny': 0},\n",
        "                          'No Umbrella': {'Rainy': 0, 'Cloudy': 0.7, 'Sunny': 0.3}},\n",
        "               'Sunny': {'Umbrella': {'Rainy': 0, 'Cloudy': 0, 'Sunny': 1},\n",
        "                         'No Umbrella': {'Rainy': 0, 'Cloudy': 0.4, 'Sunny': 0.6}}}\n",
        "discount_factor = 0.9"
      ]
    },
    {
      "cell_type": "code",
      "execution_count": 4,
      "metadata": {
        "id": "-m8cwjMA8Thc"
      },
      "outputs": [],
      "source": [
        "#Fn for value iter\n",
        "def value_iteration():\n",
        "    #init, the value fn for each state to 0\n",
        "    V = {s: 0 for s in states}\n",
        "    while True:\n",
        "        #compute the updated value fn for each state\n",
        "        new_V = {}\n",
        "        for s in states:\n",
        "            values = []\n",
        "            for a in actions:\n",
        "                value = rewards[s][a]\n",
        "                for s2 in states:\n",
        "                    value += discount_factor * transitions[s][a][s2] * V[s2]\n",
        "                values.append(value)\n",
        "            new_V[s] = max(values)\n",
        "        # Check convergence\n",
        "        if all(abs(V[s] - new_V[s]) < 0.0001 for s in states):\n",
        "            return new_V\n",
        "        V = new_V\n",
        "V = value_iteration()"
      ]
    },
    {
      "cell_type": "code",
      "execution_count": 5,
      "metadata": {
        "colab": {
          "base_uri": "https://localhost:8080/",
          "height": 487
        },
        "id": "j1e4zMoc8VGh",
        "outputId": "eee91230-1d8e-48c4-f565-bdc00a112dc2"
      },
      "outputs": [
        {
          "name": "stdout",
          "output_type": "stream",
          "text": [
            "Optimal policy:\n",
            "{'Rainy': 'Umbrella', 'Cloudy': 'Umbrella', 'Sunny': 'No Umbrella'}\n"
          ]
        },
        {
          "data": {
            "text/plain": [
              "<matplotlib.image.AxesImage at 0x2cd65999b90>"
            ]
          },
          "execution_count": 5,
          "metadata": {},
          "output_type": "execute_result"
        },
        {
          "data": {
            "image/png": "[encoded data removed]",
            "text/plain": [
              "<Figure size 640x480 with 1 Axes>"
            ]
          },
          "metadata": {},
          "output_type": "display_data"
        }
      ],
      "source": [
        "#compute optimal policy\n",
        "policy = {}\n",
        "for s in states:\n",
        "    values = []\n",
        "    for a in actions:\n",
        "        value = rewards[s][a]\n",
        "        for s2 in states:\n",
        "            value += discount_factor * transitions[s][a][s2] * V[s2]\n",
        "        values.append(value)\n",
        "    policy[s] = actions[np.argmax(values)]\n",
        "\n",
        "print(\"Optimal policy:\")\n",
        "print(policy)\n",
        "\n",
        "# Plot\n",
        "policy_values = np.zeros((len(states), len(actions)))\n",
        "for i, s in enumerate(states):\n",
        "    for j, a in enumerate(actions):\n",
        "        policy_values[i, j] = rewards[s][a] + discount_factor * sum(transitions[s][a][s2] * V[s2] for s2 in states)\n",
        "plt.imshow(policy_values, cmap='Greys')"
      ]
    },
    {
      "cell_type": "markdown",
      "metadata": {},
      "source": [
        "### Custom Example"
      ]
    },
    {
      "cell_type": "code",
      "execution_count": 6,
      "metadata": {},
      "outputs": [],
      "source": [
        "# Define the MDP parameters for the Mining Environment (Diamond and Coal)\n",
        "grid_size = 4\n",
        "states = [(i, j) for i in range(grid_size) for j in range(grid_size)]  # All positions in a 4x4 grid\n",
        "actions = ['Up', 'Down', 'Left', 'Right', 'Mine']"
      ]
    },
    {
      "cell_type": "code",
      "execution_count": 7,
      "metadata": {},
      "outputs": [],
      "source": [
        "# Rewards and transition functions\n",
        "diamond_locations = [(1, 1), (3, 0)]  # Diamond locations\n",
        "coal_locations = [(0, 2), (2, 3)]  # Coal locations\n",
        "empty_locations = [(i, j) for i in range(grid_size) for j in range(grid_size)]  # All possible states"
      ]
    },
    {
      "cell_type": "code",
      "execution_count": 8,
      "metadata": {},
      "outputs": [],
      "source": [
        "# Define rewards\n",
        "rewards = {}\n",
        "for state in states:\n",
        "    if state in diamond_locations:\n",
        "        rewards[state] = 10  # Reward for finding a diamond\n",
        "    elif state in coal_locations:\n",
        "        rewards[state] = 1   # Reward for finding coal\n",
        "    else:\n",
        "        rewards[state] = -1  # Small penalty for mining in an empty spot\n"
      ]
    },
    {
      "cell_type": "code",
      "execution_count": 9,
      "metadata": {},
      "outputs": [],
      "source": [
        "# Transition function\n",
        "def get_next_state(state, action):\n",
        "    x, y = state\n",
        "    if action == 'Up' and x > 0:\n",
        "        return (x - 1, y)\n",
        "    if action == 'Down' and x < grid_size - 1:\n",
        "        return (x + 1, y)\n",
        "    if action == 'Left' and y > 0:\n",
        "        return (x, y - 1)\n",
        "    if action == 'Right' and y < grid_size - 1:\n",
        "        return (x, y + 1)\n",
        "    return state  # If blocked, return the same state\n"
      ]
    },
    {
      "cell_type": "code",
      "execution_count": 10,
      "metadata": {},
      "outputs": [],
      "source": [
        "# Define the discount factor\n",
        "discount_factor = 0.9"
      ]
    },
    {
      "cell_type": "code",
      "execution_count": 11,
      "metadata": {},
      "outputs": [],
      "source": [
        "# Value iteration function\n",
        "def value_iteration():\n",
        "    # Initialize the value function to zeros\n",
        "    V = {state: 0 for state in states}\n",
        "\n",
        "    while True:\n",
        "        # Compute the updated value function for each state\n",
        "        new_V = {}\n",
        "        for state in states:\n",
        "            values = []\n",
        "            # If the agent is in an empty location or it's a terminal state, skip mining\n",
        "            if state in empty_locations:\n",
        "                # Consider movement actions (not mining)\n",
        "                for action in actions[:-1]:  # Exclude 'Mine' from movement actions\n",
        "                    next_state = get_next_state(state, action)\n",
        "                    value = rewards[state] + discount_factor * V[next_state]\n",
        "                    values.append(value)\n",
        "            else:\n",
        "                # Consider movement and mining actions\n",
        "                for action in actions:\n",
        "                    if action == 'Mine':\n",
        "                        value = rewards[state] + discount_factor * V[state]  # No transition, remains in same state\n",
        "                    else:\n",
        "                        next_state = get_next_state(state, action)\n",
        "                        value = rewards[state] + discount_factor * V[next_state]\n",
        "                    values.append(value)\n",
        "            new_V[state] = max(values)\n",
        "\n",
        "        # Check convergence (if the change is below a small threshold)\n",
        "        if all(abs(V[state] - new_V[state]) < 0.0001 for state in states):\n",
        "            return new_V\n",
        "        V = new_V"
      ]
    },
    {
      "cell_type": "code",
      "execution_count": 12,
      "metadata": {},
      "outputs": [
        {
          "name": "stdout",
          "output_type": "stream",
          "text": [
            "Optimal Policy:\n",
            "['E', 'E', 'C', 'E']\n",
            "['E', 'D', 'E', 'E']\n",
            "['E', 'E', 'E', 'C']\n",
            "['D', 'E', 'E', 'E']\n"
          ]
        }
      ],
      "source": [
        "# Compute the optimal value function\n",
        "V = value_iteration()\n",
        "\n",
        "# Compute the optimal policy based on the value function\n",
        "policy = {}\n",
        "for state in states:\n",
        "    values = []\n",
        "    for action in actions:\n",
        "        if action == 'Mine':\n",
        "            value = rewards[state] + discount_factor * V[state]  # No transition\n",
        "        else:\n",
        "            next_state = get_next_state(state, action)\n",
        "            value = rewards[state] + discount_factor * V[next_state]\n",
        "        values.append(value)\n",
        "    policy[state] = actions[np.argmax(values)]\n",
        "\n",
        "# Print the optimal policy\n",
        "print(\"Optimal Policy:\")\n",
        "for i in range(grid_size):\n",
        "    row = []\n",
        "    for j in range(grid_size):\n",
        "        state = (i, j)\n",
        "        if state in diamond_locations:\n",
        "            row.append('D')  # Diamond\n",
        "        elif state in coal_locations:\n",
        "            row.append('C')  # Coal\n",
        "        elif state in empty_locations:\n",
        "            row.append('E')  # Empty space\n",
        "        else:\n",
        "            row.append(policy[state][0])  # First letter of the optimal action\n",
        "    print(row)"
      ]
    },
    {
      "cell_type": "code",
      "execution_count": 13,
      "metadata": {},
      "outputs": [
        {
          "data": {
            "image/png": "[encoded data removed]",
            "text/plain": [
              "<Figure size 640x480 with 2 Axes>"
            ]
          },
          "metadata": {},
          "output_type": "display_data"
        }
      ],
      "source": [
        "# Plot the value function on the grid\n",
        "V_grid = np.zeros((grid_size, grid_size))\n",
        "for state, value in V.items():\n",
        "    V_grid[state[0], state[1]] = value\n",
        "\n",
        "plt.imshow(V_grid, cmap='coolwarm', interpolation='nearest')\n",
        "plt.colorbar(label=\"Value\")\n",
        "plt.title(\"Value Function Heatmap\")\n",
        "plt.show()\n",
        "\n"
      ]
    }
  ],
  "metadata": {
    "colab": {
      "provenance": []
    },
    "kernelspec": {
      "display_name": "Python 3",
      "name": "python3"
    },
    "language_info": {
      "codemirror_mode": {
        "name": "ipython",
        "version": 3
      },
      "file_extension": ".py",
      "mimetype": "text/x-python",
      "name": "python",
      "nbconvert_exporter": "python",
      "pygments_lexer": "ipython3",
      "version": "3.11.2"
    }
  },
  "nbformat": 4,
  "nbformat_minor": 0
}
