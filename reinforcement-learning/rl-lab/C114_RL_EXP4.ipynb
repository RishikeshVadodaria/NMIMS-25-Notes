{
  "cells": [
    {
      "cell_type": "markdown",
      "metadata": {
        "id": "VnEvjoMcjY2G"
      },
      "source": [
        "# **EXPERIMENT 4**\n",
        "## **Name**: Rishikesh Vadodaria\n",
        "## **Roll no**: C114"
      ]
    },
    {
      "cell_type": "code",
      "execution_count": 8,
      "metadata": {
        "id": "RJSNeSHAuqJC"
      },
      "outputs": [],
      "source": [
        "import numpy as np\n",
        "\n",
        "\n",
        "class PolicyIterationMDP:\n",
        "    def __init__(self, states, actions, transitions, rewards, gamma=0.9, theta=1e-6):\n",
        "        self.states = states\n",
        "        self.actions = actions\n",
        "        self.transitions = transitions\n",
        "        self.rewards = rewards\n",
        "        self.gamma = gamma\n",
        "        self.theta = theta\n",
        "        self.V = {s: 0 for s in states}  # Initialize values to zero\n",
        "        self.policy = {s: np.random.choice(actions) for s in states if s != \"S8\"}  # Random policy\n",
        "\n",
        "    def policy_evaluation(self):\n",
        "        \"\"\"Evaluates the current policy\"\"\"\n",
        "        while True:\n",
        "            delta = 0\n",
        "            for s in self.states:\n",
        "                if s == \"S8\":  # Terminal state\n",
        "                    continue\n",
        "                v = self.V[s]\n",
        "                action = self.policy[s]\n",
        "                next_state = self.transitions[s][action]\n",
        "                self.V[s] = self.rewards[s] + self.gamma * self.V[next_state]\n",
        "                delta = max(delta, abs(v - self.V[s]))\n",
        "            if delta < self.theta:\n",
        "                break\n",
        "\n",
        "    def policy_improvement(self):\n",
        "        \"\"\"Improves the policy based on the current value function\"\"\"\n",
        "        policy_stable = True\n",
        "        for s in self.states:\n",
        "            if s == \"S8\":\n",
        "                continue\n",
        "            old_action = self.policy[s]\n",
        "            action_values = {a: self.rewards[s] + self.gamma * self.V[self.transitions[s][a]] for a in self.actions}\n",
        "            self.policy[s] = max(action_values, key=action_values.get)  # Best action\n",
        "            if old_action != self.policy[s]:\n",
        "                policy_stable = False\n",
        "        return policy_stable\n",
        "\n",
        "    def run(self):\n",
        "        \"\"\"Runs the full Policy Iteration algorithm\"\"\"\n",
        "        while True:\n",
        "            self.policy_evaluation()\n",
        "            if self.policy_improvement():\n",
        "                break\n",
        "\n",
        "    def display_results(self):\n",
        "        \"\"\"Displays the final value function and optimal policy\"\"\"\n",
        "        print(\"\\nOptimal Value Function:\")\n",
        "        for s in self.states:\n",
        "            print(f\"V({s}) = {self.V[s]:.2f}\")\n",
        "\n",
        "        print(\"\\nOptimal Policy:\")\n",
        "        for s in self.states:\n",
        "            if s != \"S8\":\n",
        "                print(f\"π({s}) = {self.policy[s]}\")"
      ]
    },
    {
      "cell_type": "code",
      "execution_count": 6,
      "metadata": {
        "id": "-Oy6W6k7Cd0q"
      },
      "outputs": [],
      "source": [
        "# Define states, actions, transitions, and rewards\n",
        "states = [\"S1\", \"S2\", \"S3\", \"S4\", \"S5\", \"S6\", \"S7\", \"S8\"]\n",
        "actions = [\"left\", \"right\"]\n",
        "\n",
        "\n",
        "\n",
        "transitions = {\n",
        "    \"S1\": {\"left\": \"S1\", \"right\": \"S3\"},\n",
        "    \"S2\": {\"left\": \"S1\", \"right\": \"S5\"},\n",
        "    \"S3\": {\"left\": \"S1\", \"right\": \"S6\"},\n",
        "    \"S4\": {\"left\": \"S2\", \"right\": \"S7\"},\n",
        "    \"S5\": {\"left\": \"S2\", \"right\": \"S8\"},\n",
        "    \"S6\": {\"left\": \"S3\", \"right\": \"S8\"},\n",
        "    \"S7\": {\"left\": \"S4\", \"right\": \"S5\"},\n",
        "    \"S8\": {\"left\": \"S8\", \"right\": \"S8\"}  # Terminal state\n",
        "}\n",
        "\n",
        "\n",
        "\n",
        "rewards = {\n",
        "    \"S1\": 0, \"S2\": +2, \"S3\": +1, \"S4\": -1, \"S5\": +3,\n",
        "    \"S6\": -3, \"S7\": -7, \"S8\": +5\n",
        "}"
      ]
    },
    {
      "cell_type": "code",
      "execution_count": 7,
      "metadata": {
        "colab": {
          "base_uri": "https://localhost:8080/"
        },
        "id": "QaiGnrbrCfyq",
        "outputId": "119089c3-7bd9-426b-f26f-a36e11b6faaf"
      },
      "outputs": [
        {
          "name": "stdout",
          "output_type": "stream",
          "text": [
            "\n",
            "Optimal Value Function:\n",
            "V(S1) = 4.74\n",
            "V(S2) = 24.74\n",
            "V(S3) = 5.26\n",
            "V(S4) = 21.26\n",
            "V(S5) = 25.26\n",
            "V(S6) = 1.74\n",
            "V(S7) = 15.74\n",
            "V(S8) = 0.00\n",
            "\n",
            "Optimal Policy:\n",
            "π(S1) = right\n",
            "π(S2) = right\n",
            "π(S3) = left\n",
            "π(S4) = left\n",
            "π(S5) = left\n",
            "π(S6) = left\n",
            "π(S7) = right\n"
          ]
        }
      ],
      "source": [
        "# Run Policy Iteration\n",
        "mdp = PolicyIterationMDP(states, actions, transitions, rewards)\n",
        "mdp.run()\n",
        "mdp.display_results()"
      ]
    }
  ],
  "metadata": {
    "colab": {
      "provenance": []
    },
    "kernelspec": {
      "display_name": "Python 3",
      "name": "python3"
    },
    "language_info": {
      "codemirror_mode": {
        "name": "ipython",
        "version": 3
      },
      "file_extension": ".py",
      "mimetype": "text/x-python",
      "name": "python",
      "nbconvert_exporter": "python",
      "pygments_lexer": "ipython3",
      "version": "3.11.2"
    }
  },
  "nbformat": 4,
  "nbformat_minor": 0
}
