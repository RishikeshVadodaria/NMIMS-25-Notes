{
  "cells": [
    {
      "cell_type": "code",
      "execution_count": null,
      "id": "36b6dcfd",
      "metadata": {
        "id": "36b6dcfd"
      },
      "outputs": [],
      "source": [
        "#Problem Statement: You're going out, do you need umbrella.\n",
        "\n",
        "#States: Rainy, Cloudy and Sunny\n",
        "#Actions: Umbrella & No umbrella\n",
        "#Reward: Dict mapping with each state action pair\n",
        "#Transition Prob\n",
        "#Discount Factor"
      ]
    },
    {
      "cell_type": "code",
      "source": [
        "! pip install pymdptoolbox"
      ],
      "metadata": {
        "colab": {
          "base_uri": "https://localhost:8080/"
        },
        "id": "bT0cX5OJplUG",
        "outputId": "53de97b9-11db-4f96-bad3-5117f280da55"
      },
      "id": "bT0cX5OJplUG",
      "execution_count": 1,
      "outputs": [
        {
          "output_type": "stream",
          "name": "stdout",
          "text": [
            "Collecting pymdptoolbox\n",
            "  Downloading pymdptoolbox-4.0-b3.zip (29 kB)\n",
            "  Preparing metadata (setup.py) ... \u001b[?25l\u001b[?25hdone\n",
            "Requirement already satisfied: numpy in /usr/local/lib/python3.11/dist-packages (from pymdptoolbox) (1.26.4)\n",
            "Requirement already satisfied: scipy in /usr/local/lib/python3.11/dist-packages (from pymdptoolbox) (1.13.1)\n",
            "Building wheels for collected packages: pymdptoolbox\n",
            "  Building wheel for pymdptoolbox (setup.py) ... \u001b[?25l\u001b[?25hdone\n",
            "  Created wheel for pymdptoolbox: filename=pymdptoolbox-4.0b3-py3-none-any.whl size=25656 sha256=52553743babbfe7a2795669a54ee2191356067e19e1e644e41c720ccc3c2b2d4\n",
            "  Stored in directory: /root/.cache/pip/wheels/cc/81/b3/db002373e7a93d9151e9dc9ea1084102b0028f2339724b32a3\n",
            "Successfully built pymdptoolbox\n",
            "Installing collected packages: pymdptoolbox\n",
            "Successfully installed pymdptoolbox-4.0b3\n"
          ]
        }
      ]
    },
    {
      "cell_type": "code",
      "source": [],
      "metadata": {
        "id": "9CA2h0XqpOk0"
      },
      "id": "9CA2h0XqpOk0",
      "execution_count": null,
      "outputs": []
    },
    {
      "cell_type": "code",
      "execution_count": 2,
      "id": "a871c787",
      "metadata": {
        "id": "a871c787"
      },
      "outputs": [],
      "source": [
        "import numpy as np\n",
        "import matplotlib.pyplot as plt"
      ]
    },
    {
      "cell_type": "code",
      "execution_count": 3,
      "id": "60ce9434",
      "metadata": {
        "colab": {
          "base_uri": "https://localhost:8080/",
          "height": 488
        },
        "id": "60ce9434",
        "outputId": "9464eaf0-eff7-4a60-f43a-e3d3e78938cc"
      },
      "outputs": [
        {
          "output_type": "stream",
          "name": "stdout",
          "text": [
            "Optimal policy:\n",
            "{'Rainy': 'Umbrella', 'Cloudy': 'Umbrella', 'Sunny': 'No Umbrella'}\n"
          ]
        },
        {
          "output_type": "execute_result",
          "data": {
            "text/plain": [
              "<matplotlib.image.AxesImage at 0x7c02b4ce3650>"
            ]
          },
          "metadata": {},
          "execution_count": 3
        },
        {
          "output_type": "display_data",
          "data": {
            "text/plain": [
              "<Figure size 640x480 with 1 Axes>"
            ],
            "image/png": "[encoded data removed]"
          },
          "metadata": {}
        }
      ],
      "source": [
        "import numpy as np\n",
        "import matplotlib.pyplot as plt\n",
        "\n",
        "# Define the MDP parameters\n",
        "states = ['Rainy', 'Cloudy', 'Sunny']\n",
        "actions = ['Umbrella', 'No Umbrella']\n",
        "rewards = {'Rainy': {'Umbrella': -1, 'No Umbrella': -5},\n",
        "           'Cloudy': {'Umbrella': -1, 'No Umbrella': -1},\n",
        "           'Sunny': {'Umbrella': -5, 'No Umbrella': -1}}\n",
        "transitions = {'Rainy': {'Umbrella': {'Rainy': 0.7, 'Cloudy': 0.3, 'Sunny': 0},\n",
        "                         'No Umbrella': {'Rainy': 0.3, 'Cloudy': 0.4, 'Sunny': 0.3}},\n",
        "               'Cloudy': {'Umbrella': {'Rainy': 0.4, 'Cloudy': 0.6, 'Sunny': 0},\n",
        "                          'No Umbrella': {'Rainy': 0, 'Cloudy': 0.7, 'Sunny': 0.3}},\n",
        "               'Sunny': {'Umbrella': {'Rainy': 0, 'Cloudy': 0, 'Sunny': 1},\n",
        "                         'No Umbrella': {'Rainy': 0, 'Cloudy': 0.4, 'Sunny': 0.6}}}\n",
        "discount_factor = 0.9\n",
        "\n",
        "#Fn for value iter\n",
        "def value_iteration():\n",
        "    #init, the value fn for each state to 0\n",
        "    V = {s: 0 for s in states}\n",
        "    while True:\n",
        "        #compute the updated value fn for each state\n",
        "        new_V = {}\n",
        "        for s in states:\n",
        "            values = []\n",
        "            for a in actions:\n",
        "                value = rewards[s][a]\n",
        "                for s2 in states:\n",
        "                    value += discount_factor * transitions[s][a][s2] * V[s2]\n",
        "                values.append(value)\n",
        "            new_V[s] = max(values)\n",
        "        # Check convergence\n",
        "        if all(abs(V[s] - new_V[s]) < 0.0001 for s in states):\n",
        "            return new_V\n",
        "        V = new_V\n",
        "V = value_iteration()\n",
        "\n",
        "#compute optimal policy\n",
        "policy = {}\n",
        "for s in states:\n",
        "    values = []\n",
        "    for a in actions:\n",
        "        value = rewards[s][a]\n",
        "        for s2 in states:\n",
        "            value += discount_factor * transitions[s][a][s2] * V[s2]\n",
        "        values.append(value)\n",
        "    policy[s] = actions[np.argmax(values)]\n",
        "\n",
        "print(\"Optimal policy:\")\n",
        "print(policy)\n",
        "\n",
        "# Plot\n",
        "policy_values = np.zeros((len(states), len(actions)))\n",
        "for i, s in enumerate(states):\n",
        "    for j, a in enumerate(actions):\n",
        "        policy_values[i, j] = rewards[s][a] + discount_factor * sum(transitions[s][a][s2] * V[s2] for s2 in states)\n",
        "plt.imshow(policy_values, cmap='Greys')"
      ]
    },
    {
      "cell_type": "code",
      "execution_count": null,
      "id": "a89e8bce",
      "metadata": {
        "id": "a89e8bce"
      },
      "outputs": [],
      "source": []
    }
  ],
  "metadata": {
    "kernelspec": {
      "display_name": "co2",
      "language": "python",
      "name": "co2"
    },
    "language_info": {
      "codemirror_mode": {
        "name": "ipython",
        "version": 3
      },
      "file_extension": ".py",
      "mimetype": "text/x-python",
      "name": "python",
      "nbconvert_exporter": "python",
      "pygments_lexer": "ipython3",
      "version": "3.10.8"
    },
    "colab": {
      "provenance": []
    }
  },
  "nbformat": 4,
  "nbformat_minor": 5
}