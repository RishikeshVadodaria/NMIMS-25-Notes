{
 "cells": [
  {
   "cell_type": "code",
   "execution_count": 1,
   "metadata": {},
   "outputs": [],
   "source": [
    "from PIL import Image\n",
    "import numpy as np\n",
    "\n",
    "def create_gradient(width=1920, height=1080, color1=(120, 0, 255), color2=(0, 0, 0)):\n",
    "    \"\"\"\n",
    "    Creates a vertical gradient image from color1 to color2.\n",
    "    \n",
    "    :param width: Image width\n",
    "    :param height: Image height\n",
    "    :param color1: Start color (RGB)\n",
    "    :param color2: End color (RGB)\n",
    "    \"\"\"\n",
    "    gradient = np.zeros((height, width, 3), dtype=np.uint8)\n",
    "\n",
    "    for y in range(height):\n",
    "        ratio = y / height\n",
    "        r = int((1 - ratio) * color1[0] + ratio * color2[0])\n",
    "        g = int((1 - ratio) * color1[1] + ratio * color2[1])\n",
    "        b = int((1 - ratio) * color1[2] + ratio * color2[2])\n",
    "        gradient[y, :, :] = (r, g, b)\n",
    "\n",
    "    img = Image.fromarray(gradient)\n",
    "    img.save(\"purple_gradient.png\")\n",
    "    img.show()\n",
    "\n",
    "# Generate and show the image\n",
    "create_gradient()\n"
   ]
  },
  {
   "cell_type": "code",
   "execution_count": null,
   "metadata": {},
   "outputs": [],
   "source": []
  }
 ],
 "metadata": {
  "kernelspec": {
   "display_name": "Python 3",
   "language": "python",
   "name": "python3"
  },
  "language_info": {
   "codemirror_mode": {
    "name": "ipython",
    "version": 3
   },
   "file_extension": ".py",
   "mimetype": "text/x-python",
   "name": "python",
   "nbconvert_exporter": "python",
   "pygments_lexer": "ipython3",
   "version": "3.11.2"
  }
 },
 "nbformat": 4,
 "nbformat_minor": 2
}
